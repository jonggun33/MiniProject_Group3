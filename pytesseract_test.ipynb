try:
    from PIL import Image
except ImportError:
    import Image
import pytesseract
import os

# 1. Load Image 위치:  
folder = r"C:\MiniProject_Group3-main\CargoContainerImages"
#folder = r"C:\MiniProject_Group3-main\temp_image"

# score1 : 11글자 모두 같은지
# score2 : 추출해 낸 text가 원래의 text를 포함하는지
# score3 : 11자 중에서 맞는 갯수를 1점으로 해서 11점 만점으로
def getAccuracy(text, filename):
    
#     if text == filename:
#         score1 = 1
#     else :
#         score1 = 0
    
#     if filename in text.lower() or text.lower() in filename :
#         score2 = 1
#     else :
#         score2 = 0
    
    score3 = 0
    filename_list = list(filename)
    #print(filename_list)
        
    for i in range(0,len(text)):
        #print(text[i:i+1])
        if(text[i:i+1] in filename_list): 
            #print(text[i:i+1], " -> score up")
            score3 += 1
        #else :
            #print(text[i:i+1], " -> not match")
    return score3

# 확장자가 ".jpg"인 파일들로부터 데이터 읽어오기.
for filename in os.listdir(folder):
    if filename.upper().endswith(".JPG") or filename.lower().endswith(".JPEG"):       
        print("\nProcessing", filename)
        fullpath = os.path.join(folder, filename)  # 폴더명과 파일명을 결합
        #print("fullpath", fullpath)  
        text = pytesseract.image_to_string(fullpath)
        text = text.replace(" ", "")
        text = " ".join(text.split())
        print(text)
        
        if(len(text) > 0):
            filenameExceptJpg = filename[:filename.find('.')]
            #print("filenameExceptJpg : ",filenameExceptJpg)
            score3 = getAccuracy(text, filenameExceptJpg.upper())
            #print("score1",score1, "score2", score2)
            print("score3 : ", score3, ", len : ", len(text), ", accuracy : ", score3/len(text))
    
    else:                               
        print("Ignoring", filename)      
