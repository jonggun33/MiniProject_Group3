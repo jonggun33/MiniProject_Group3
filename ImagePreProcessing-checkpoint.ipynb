{
 "cells": [
  {
   "cell_type": "code",
   "execution_count": 28,
   "metadata": {},
   "outputs": [],
   "source": [
    "try:\n",
    "    from PIL import Image\n",
    "except ImportError:\n",
    "    import Image\n",
    "import pytesseract\n",
    "import os\n",
    "import cv2\n",
    "import numpy as np\n",
    "import matplotlib.pyplot as plt"
   ]
  },
  {
   "cell_type": "code",
   "execution_count": 29,
   "metadata": {},
   "outputs": [],
   "source": [
    "pytesseract.pytesseract.tesseract_cmd = r'C:\\Program Files\\Tesseract-OCR\\tesseract.exe'"
   ]
  },
  {
   "cell_type": "code",
   "execution_count": 3,
   "metadata": {},
   "outputs": [
    {
     "data": {
      "text/plain": [
       "-1"
      ]
     },
     "execution_count": 3,
     "metadata": {},
     "output_type": "execute_result"
    }
   ],
   "source": [
    "\n",
    "img = cv2.imread('CargoContainerImages/CAIU2728316.jpg')\n",
    "gray = cv2.cvtColor(img, cv2.COLOR_BGR2RGB)\n",
    "blured = cv2.GaussianBlur(gray,(5,5),cv2.BORDER_DEFAULT)\n",
    "edged= cv2.Canny(blured, 30,15)\n",
    "\n",
    "cv2.imshow(\"image\", edged)\n",
    "cv2.waitKey(0) "
   ]
  },
  {
   "cell_type": "code",
   "execution_count": 4,
   "metadata": {},
   "outputs": [
    {
     "data": {
      "text/plain": [
       "-1"
      ]
     },
     "execution_count": 4,
     "metadata": {},
     "output_type": "execute_result"
    }
   ],
   "source": [
    "large = cv2.imread('CargoContainerImages/CAIU2728316.jpg')\n",
    "rgb = cv2.pyrDown(large)\n",
    "small = cv2.cvtColor(rgb, cv2.COLOR_BGR2GRAY)\n",
    "kernel = cv2.getStructuringElement(cv2.MORPH_ELLIPSE, (3, 3))\n",
    "grad = cv2.morphologyEx(small, cv2.MORPH_GRADIENT, kernel)\n",
    "_, bw = cv2.threshold(grad, 0.0, 255.0, cv2.THRESH_BINARY | cv2.THRESH_OTSU)\n",
    "kernel = cv2.getStructuringElement(cv2.MORPH_RECT, (9, 1))\n",
    "connected = cv2.morphologyEx(bw, cv2.MORPH_CLOSE, kernel)\n",
    "# using RETR_EXTERNAL instead of RETR_CCOMP\n",
    "contours, hierarchy = cv2.findContours(connected.copy(), cv2.RETR_EXTERNAL, cv2.CHAIN_APPROX_NONE)\n",
    "mask = np.zeros(bw.shape, dtype=np.uint8)\n",
    "for idx in range(len(contours)):\n",
    "    x, y, w, h = cv2.boundingRect(contours[idx])\n",
    "    mask[y:y+h, x:x+w] = 0\n",
    "    cv2.drawContours(mask, contours, idx, (255, 255, 255), -1)\n",
    "    r = float(cv2.countNonZero(mask[y:y+h, x:x+w])) / (w * h)\n",
    "    if r > 0.45 and w > 8 and h > 8:\n",
    "        cv2.rectangle(rgb, (x, y), (x+w-1, y+h-1), (0, 255, 0), 2)\n",
    "# show image with contours rect\n",
    "cv2.imshow('rects', rgb)\n",
    "cv2.waitKey()\n",
    "\n",
    "\n"
   ]
  },
  {
   "cell_type": "code",
   "execution_count": 5,
   "metadata": {},
   "outputs": [
    {
     "data": {
      "image/png": "[encoded data removed]",
      "text/plain": [
       "<Figure size 432x288 with 1 Axes>"
      ]
     },
     "metadata": {
      "needs_background": "light"
     },
     "output_type": "display_data"
    },
    {
     "name": "stdout",
     "output_type": "stream",
     "text": [
      "34\n"
     ]
    },
    {
     "ename": "AttributeError",
     "evalue": "module 'numpy' has no attribute 'unit8'",
     "output_type": "error",
     "traceback": [
      "\u001b[1;31m---------------------------------------------------------------------------\u001b[0m",
      "\u001b[1;31mAttributeError\u001b[0m                            Traceback (most recent call last)",
      "\u001b[1;32m<ipython-input-5-26a0fda78262>\u001b[0m in \u001b[0;36m<module>\u001b[1;34m\u001b[0m\n\u001b[0;32m    102\u001b[0m \u001b[0mcontours\u001b[0m \u001b[1;33m=\u001b[0m \u001b[0msorted\u001b[0m\u001b[1;33m(\u001b[0m\u001b[0mcontours\u001b[0m\u001b[1;33m,\u001b[0m \u001b[0mkey\u001b[0m\u001b[1;33m=\u001b[0m\u001b[1;32mlambda\u001b[0m \u001b[0mc\u001b[0m\u001b[1;33m:\u001b[0m \u001b[0mcv2\u001b[0m\u001b[1;33m.\u001b[0m\u001b[0mboundingRect\u001b[0m\u001b[1;33m(\u001b[0m\u001b[0mc\u001b[0m\u001b[1;33m)\u001b[0m\u001b[1;33m[\u001b[0m\u001b[1;36m1\u001b[0m\u001b[1;33m]\u001b[0m\u001b[1;33m)\u001b[0m\u001b[1;33m\u001b[0m\u001b[1;33m\u001b[0m\u001b[0m\n\u001b[0;32m    103\u001b[0m \u001b[0mprint\u001b[0m\u001b[1;33m(\u001b[0m\u001b[0mtotal_width\u001b[0m\u001b[1;33m)\u001b[0m\u001b[1;33m\u001b[0m\u001b[1;33m\u001b[0m\u001b[0m\n\u001b[1;32m--> 104\u001b[1;33m \u001b[0mall_im\u001b[0m \u001b[1;33m=\u001b[0m \u001b[0mnp\u001b[0m\u001b[1;33m.\u001b[0m\u001b[0mzeros\u001b[0m\u001b[1;33m(\u001b[0m\u001b[1;33m[\u001b[0m\u001b[1;36m80\u001b[0m\u001b[1;33m,\u001b[0m \u001b[0mtotal_width\u001b[0m \u001b[1;33m+\u001b[0m \u001b[1;36m64\u001b[0m\u001b[1;33m]\u001b[0m\u001b[1;33m,\u001b[0m \u001b[0mdtype\u001b[0m\u001b[1;33m=\u001b[0m\u001b[0mnp\u001b[0m\u001b[1;33m.\u001b[0m\u001b[0munit8\u001b[0m\u001b[1;33m)\u001b[0m\u001b[1;33m\u001b[0m\u001b[1;33m\u001b[0m\u001b[0m\n\u001b[0m\u001b[0;32m    105\u001b[0m \u001b[1;33m\u001b[0m\u001b[0m\n\u001b[0;32m    106\u001b[0m \u001b[0moffset\u001b[0m \u001b[1;33m=\u001b[0m \u001b[1;36m24\u001b[0m\u001b[1;33m\u001b[0m\u001b[1;33m\u001b[0m\u001b[0m\n",
      "\u001b[1;32mC:\\ProgramData\\Anaconda3\\lib\\site-packages\\numpy\\__init__.py\u001b[0m in \u001b[0;36m__getattr__\u001b[1;34m(attr)\u001b[0m\n\u001b[0;32m    212\u001b[0m                 \u001b[1;32mreturn\u001b[0m \u001b[0mTester\u001b[0m\u001b[1;33m\u001b[0m\u001b[1;33m\u001b[0m\u001b[0m\n\u001b[0;32m    213\u001b[0m             \u001b[1;32melse\u001b[0m\u001b[1;33m:\u001b[0m\u001b[1;33m\u001b[0m\u001b[1;33m\u001b[0m\u001b[0m\n\u001b[1;32m--> 214\u001b[1;33m                 raise AttributeError(\"module {!r} has no attribute \"\n\u001b[0m\u001b[0;32m    215\u001b[0m                                      \"{!r}\".format(__name__, attr))\n\u001b[0;32m    216\u001b[0m \u001b[1;33m\u001b[0m\u001b[0m\n",
      "\u001b[1;31mAttributeError\u001b[0m: module 'numpy' has no attribute 'unit8'"
     ]
    }
   ],
   "source": [
    "def x_cord_contour(contour):\n",
    "    # This function take a contour from findContours\n",
    "    # it then outputs the x centroid coordinates\n",
    "    \n",
    "    \n",
    "    M = cv2.moments(contour)\n",
    "    return (int(M['m10']/M['m00']))\n",
    " \n",
    "\n",
    "def makeSquare(not_square):\n",
    "    # This function takes an image and makes the dimenions square\n",
    "    # It adds black pixels as the padding where needed\n",
    "    \n",
    "    BLACK = [0,0,0]\n",
    "    img_dim = not_square.shape\n",
    "    height = img_dim[0]\n",
    "    width = img_dim[1]\n",
    "    #print(\"Height = \", height, \"Width = \", width)\n",
    "    if (height == width):\n",
    "        square = not_square\n",
    "        return square\n",
    "    else:\n",
    "        doublesize = cv2.resize(not_square,(2*width, 2*height), interpolation = cv2.INTER_CUBIC)\n",
    "        height = height * 2\n",
    "        width = width * 2\n",
    "        #print(\"New Height = \", height, \"New Width = \", width)\n",
    "        if (height > width):\n",
    "            pad = int((height - width)/2)\n",
    "            #print(\"Padding = \", pad)\n",
    "            doublesize_square = cv2.copyMakeBorder(doublesize,0,0,pad,pad,cv2.BORDER_CONSTANT,value=BLACK)\n",
    "        else:\n",
    "            pad = int((width - height)/2)\n",
    "            #print(\"Padding = \", pad)\n",
    "            doublesize_square = cv2.copyMakeBorder(doublesize,pad,pad,0,0,cv2.BORDER_CONSTANT,value=BLACK)\n",
    "    doublesize_square_dim = doublesize_square.shape\n",
    "    #print(\"Sq Height = \", doublesize_square_dim[0], \"Sq Width = \", doublesize_square_dim[1])\n",
    "    return doublesize_square\n",
    " \n",
    "\n",
    "def resize_to_pixel(dimensions, image):\n",
    "    # This function then re-sizes an image to the specificied dimenions\n",
    "    \n",
    "    buffer_pix = 4\n",
    "    dimensions  = dimensions - buffer_pix\n",
    "    squared = image\n",
    "    r = float(dimensions) / squared.shape[1]\n",
    "    dim = (dimensions, int(squared.shape[0] * r))\n",
    "    resized = cv2.resize(image, dim, interpolation = cv2.INTER_AREA)\n",
    "    img_dim2 = resized.shape\n",
    "    height_r = img_dim2[0]\n",
    "    width_r = img_dim2[1]\n",
    "    BLACK = [0,0,0]\n",
    "    if (height_r > width_r):\n",
    "        resized = cv2.copyMakeBorder(resized,0,0,0,1,cv2.BORDER_CONSTANT,value=BLACK)\n",
    "    if (height_r < width_r):\n",
    "        resized = cv2.copyMakeBorder(resized,1,0,0,0,cv2.BORDER_CONSTANT,value=BLACK)\n",
    "    p = 2\n",
    "    ReSizedImg = cv2.copyMakeBorder(resized,p,p,p,p,cv2.BORDER_CONSTANT,value=BLACK)\n",
    "    img_dim = ReSizedImg.shape\n",
    "    height = img_dim[0]\n",
    "    width = img_dim[1]\n",
    "    #print(\"Padded Height = \", height, \"Width = \", width)\n",
    "    return ReSizedImg\n",
    " \n",
    "image = cv2.imread('CargoContainerImages/SEGU4786480.jpg')\n",
    "#image = cv2.resize(image,dsize=(140, 480), interpolation = cv2.INTER_AREA)\n",
    "gray = cv2.cvtColor(image,cv2.COLOR_BGR2GRAY)\n",
    "#cv2.imshow(\"image\", image)\n",
    "#cv2.imshow(\"gray\", gray)\n",
    "#cv2.waitKey(0)\n",
    " \n",
    "# Blur image then find edges using Canny \n",
    "blurred = cv2.GaussianBlur(gray, (5, 5), 0)\n",
    "#cv2.imshow(\"blurred\", blurred)\n",
    "#cv2.waitKey(0)\n",
    " \n",
    "edged = cv2.Canny(blurred, 30, 150)\n",
    "#cv2.imshow(\"edged\", edged)\n",
    "#cv2.waitKey(0)\n",
    " \n",
    "# Fint Contours\n",
    "contours, _ = cv2.findContours(edged.copy(), cv2.RETR_EXTERNAL, cv2.CHAIN_APPROX_SIMPLE)\n",
    " \n",
    "#Sort out contours left to right by using their x cordinates\n",
    "filtered_contours = [c for c in contours if cv2.contourArea(c) > 10]\n",
    "contours = sorted(filtered_contours, key = x_cord_contour, reverse = False)\n",
    "# Create empty array to store entire number\n",
    "full_number = []\n",
    "\n",
    "plt.imshow(blurred)\n",
    "plt.show()\n",
    "\n",
    "pad = 8\n",
    "total_width = 0\n",
    " \n",
    "# loop over the contours\n",
    "for c in contours:\n",
    "    # compute the bounding box for the rectangle\n",
    "    (x, y, w, h) = cv2.boundingRect(c)    \n",
    "    total_width = w + pad\n",
    "    \n",
    "contours = sorted(contours, key=lambda c: cv2.boundingRect(c)[1])\n",
    "print(total_width)\n",
    "all_im = np.zeros([80, total_width + 64], dtype=np.unit8)\n",
    "\n",
    "offset = 24\n",
    "\n",
    "    #cv2.drawContours(image, contours, -1, (0,255,0), 3)\n",
    "    #cv2.imshow(\"Contours\", image)\n",
    "for c in contours: \n",
    "    (x, y, w, h) = cv2.boundingRect(c)\n",
    "        \n",
    "    if w >= 0 and h >=0:\n",
    "        roi = blurred[y:y + h, x:x + w]\n",
    "        \n",
    "#         ret, roi = cv2.threshold(roi, 127, 255,cv2.THRESH_BINARY_INV)\n",
    "#         squared = makeSquare(roi)\n",
    "#         final = resize_to_pixel(20, squared)\n",
    "        \n",
    "        final = roi\n",
    "        print(roi.shape)\n",
    "        all_im[16:h+16, offset:offset + w] = roi\n",
    "        offset += w + pad\n",
    "        \n",
    "        \n",
    "#         cv2.imshow(\"final\", final)\n",
    "        \n",
    "#         final_array = final.reshape((1,400))\n",
    "#         final_array = final_array.astype(np.float32)\n",
    "        #ret, result, neighbours, dist = knn.findNearest(final_array, k=1)\n",
    "        #number = str(int(float(result[0])))\n",
    "        #full_number.append(number)\n",
    "        # draw a rectangle around the digit, the show what the\n",
    "        # digit was classified as\n",
    "        \n",
    "        cv2.rectangle(image, (x, y), (x + w, y + h), (0, 0, 255), 2)\n",
    "        \n",
    "        #cv2.putText(image, number, (x , y + 155),\n",
    "        #    cv2.FONT_HERSHEY_COMPLEX, 2, (255, 0, 0), 2)\n",
    "        #cv2.imshow(\"image\", image)\n",
    "#         cv2.waitKey(0) \n",
    "        \n",
    "all_im[all_im < 127] = 0\n",
    "scale = 0.5\n",
    "all_im = cv2.resize(all_im, None, fx=scale, fy=scale, interpolation=cv2.INTER_AREA)\n",
    "\n",
    "plt.imshow(all_im)\n",
    "plt.show()    \n",
    "print(pytesseract.image_to_string(all_im))\n",
    "        \n",
    "print('Done')"
   ]
  },
  {
   "cell_type": "code",
   "execution_count": null,
   "metadata": {},
   "outputs": [
    {
     "data": {
      "image/png": "[encoded data removed]",
      "text/plain": [
       "<Figure size 432x288 with 1 Axes>"
      ]
     },
     "metadata": {
      "needs_background": "light"
     },
     "output_type": "display_data"
    },
    {
     "name": "stdout",
     "output_type": "stream",
     "text": [
      "result : 6\n",
      "\f",
      "\n",
      "Done\n"
     ]
    },
    {
     "data": {
      "image/png": "[encoded data removed]",
      "text/plain": [
       "<Figure size 432x288 with 1 Axes>"
      ]
     },
     "metadata": {
      "needs_background": "light"
     },
     "output_type": "display_data"
    },
    {
     "name": "stdout",
     "output_type": "stream",
     "text": [
      "result : \f",
      "\n",
      "Done\n"
     ]
    },
    {
     "data": {
      "image/png": "[encoded data removed]",
      "text/plain": [
       "<Figure size 432x288 with 1 Axes>"
      ]
     },
     "metadata": {
      "needs_background": "light"
     },
     "output_type": "display_data"
    },
    {
     "name": "stdout",
     "output_type": "stream",
     "text": [
      "result : (-\n",
      "\f",
      "\n",
      "Done\n"
     ]
    },
    {
     "data": {
      "image/png": "[encoded data removed]",
      "text/plain": [
       "<Figure size 432x288 with 1 Axes>"
      ]
     },
     "metadata": {
      "needs_background": "light"
     },
     "output_type": "display_data"
    },
    {
     "name": "stdout",
     "output_type": "stream",
     "text": [
      "result : 3\n",
      "\f",
      "\n",
      "Done\n"
     ]
    },
    {
     "data": {
      "image/png": "[encoded data removed]",
      "text/plain": [
       "<Figure size 432x288 with 1 Axes>"
      ]
     },
     "metadata": {
      "needs_background": "light"
     },
     "output_type": "display_data"
    },
    {
     "name": "stdout",
     "output_type": "stream",
     "text": [
      "result : ?\n",
      "\f",
      "\n",
      "Done\n"
     ]
    },
    {
     "data": {
      "image/png": "[encoded data removed]",
      "text/plain": [
       "<Figure size 432x288 with 1 Axes>"
      ]
     },
     "metadata": {
      "needs_background": "light"
     },
     "output_type": "display_data"
    },
    {
     "name": "stdout",
     "output_type": "stream",
     "text": [
      "result : /\n",
      "\f",
      "\n",
      "Done\n"
     ]
    },
    {
     "data": {
      "image/png": "[encoded data removed]",
      "text/plain": [
       "<Figure size 432x288 with 1 Axes>"
      ]
     },
     "metadata": {
      "needs_background": "light"
     },
     "output_type": "display_data"
    },
    {
     "name": "stdout",
     "output_type": "stream",
     "text": [
      "result : M4\n",
      "\f",
      "\n",
      "Done\n"
     ]
    },
    {
     "data": {
      "image/png": "[encoded data removed]",
      "text/plain": [
       "<Figure size 432x288 with 1 Axes>"
      ]
     },
     "metadata": {
      "needs_background": "light"
     },
     "output_type": "display_data"
    }
   ],
   "source": [
    "def x_cord_contour(contour):\n",
    "    # This function take a contour from findContours\n",
    "    # it then outputs the x centroid coordinates\n",
    "    \n",
    "    \n",
    "    M = cv2.moments(contour)\n",
    "    return (int(M['m10']/M['m00']))\n",
    " \n",
    " \n",
    "def makeSquare(not_square):\n",
    "    # This function takes an image and makes the dimenions square\n",
    "    # It adds black pixels as the padding where needed\n",
    "    \n",
    "    BLACK = [0,0,0]\n",
    "    img_dim = not_square.shape\n",
    "    height = img_dim[0]\n",
    "    width = img_dim[1]\n",
    "    #print(\"Height = \", height, \"Width = \", width)\n",
    "    if (height == width):\n",
    "        square = not_square\n",
    "        return square\n",
    "    else:\n",
    "        doublesize = cv2.resize(not_square,(2*width, 2*height), interpolation = cv2.INTER_CUBIC)\n",
    "        height = height * 2\n",
    "        width = width * 2\n",
    "        #print(\"New Height = \", height, \"New Width = \", width)\n",
    "        if (height > width):\n",
    "            pad = int((height - width)/2)\n",
    "            #print(\"Padding = \", pad)\n",
    "            doublesize_square = cv2.copyMakeBorder(doublesize,0,0,pad,pad,cv2.BORDER_CONSTANT,value=BLACK)\n",
    "        else:\n",
    "            pad = int((width - height)/2)\n",
    "            #print(\"Padding = \", pad)\n",
    "            doublesize_square = cv2.copyMakeBorder(doublesize,pad,pad,0,0,cv2.BORDER_CONSTANT,value=BLACK)\n",
    "    doublesize_square_dim = doublesize_square.shape\n",
    "    #print(\"Sq Height = \", doublesize_square_dim[0], \"Sq Width = \", doublesize_square_dim[1])\n",
    "    return doublesize_square\n",
    " \n",
    " \n",
    "def resize_to_pixel(dimensions, image):\n",
    "    # This function then re-sizes an image to the specificied dimenions\n",
    "    \n",
    "    buffer_pix = 4\n",
    "    dimensions  = dimensions - buffer_pix\n",
    "    squared = image\n",
    "    r = float(dimensions) / squared.shape[1]\n",
    "    dim = (dimensions, int(squared.shape[0] * r))\n",
    "    resized = cv2.resize(image, dim, interpolation = cv2.INTER_AREA)\n",
    "    img_dim2 = resized.shape\n",
    "    height_r = img_dim2[0]\n",
    "    width_r = img_dim2[1]\n",
    "    BLACK = [0,0,0]\n",
    "    if (height_r > width_r):\n",
    "        resized = cv2.copyMakeBorder(resized,0,0,0,1,cv2.BORDER_CONSTANT,value=BLACK)\n",
    "    if (height_r < width_r):\n",
    "        resized = cv2.copyMakeBorder(resized,1,0,0,0,cv2.BORDER_CONSTANT,value=BLACK)\n",
    "    p = 2\n",
    "    ReSizedImg = cv2.copyMakeBorder(resized,p,p,p,p,cv2.BORDER_CONSTANT,value=BLACK)\n",
    "    img_dim = ReSizedImg.shape\n",
    "    height = img_dim[0]\n",
    "    width = img_dim[1]\n",
    "    #print(\"Padded Height = \", height, \"Width = \", width)\n",
    "    return ReSizedImg\n",
    " \n",
    "image = cv2.imread('CargoContainerImages/CAIU2728316.jpg')\n",
    "\n",
    "gray = cv2.cvtColor(image,cv2.COLOR_BGR2GRAY)\n",
    "#cv2.imshow(\"image\", image)\n",
    "#cv2.imshow(\"gray\", gray)\n",
    "#cv2.waitKey(0)\n",
    " \n",
    "# Blur image then find edges using Canny \n",
    "blurred = cv2.GaussianBlur(gray, (5, 5), 0)\n",
    "#cv2.imshow(\"blurred\", blurred)\n",
    "#cv2.waitKey(0)\n",
    " \n",
    "edged = cv2.Canny(blurred, 30, 150)\n",
    "#cv2.imshow(\"edged\", edged)\n",
    "#cv2.waitKey(0)\n",
    " \n",
    "# Fint Contours\n",
    "contours, _ = cv2.findContours(edged.copy(), cv2.RETR_EXTERNAL, cv2.CHAIN_APPROX_SIMPLE)\n",
    " \n",
    "#Sort out contours left to right by using their x cordinates\n",
    "filtered_contours = [c for c in contours if cv2.contourArea(c) > 10]\n",
    "contours = sorted(filtered_contours, key = x_cord_contour, reverse = False)\n",
    "# Create empty array to store entire number\n",
    "full_number = []\n",
    " \n",
    "# loop over the contours\n",
    "for c in contours:\n",
    "    # compute the bounding box for the rectangle\n",
    "    (x, y, w, h) = cv2.boundingRect(c)    \n",
    "    \n",
    "    #cv2.drawContours(image, contours, -1, (0,255,0), 3)\n",
    "    #cv2.imshow(\"Contours\", image)\n",
    " \n",
    "    if w >= 0 and h >=0:\n",
    "        roi = blurred[y:y + h, x:x + w]\n",
    "        #ret, roi = cv2.threshold(roi, 127, 255,cv2.THRESH_BINARY_INV)\n",
    "        #squared = makeSquare(roi)\n",
    "        #final = resize_to_pixel(20, squared)\n",
    "        \n",
    "        final = roi\n",
    "        #print(roi.shape)\n",
    "        #all_im[16:h+16, offset:offset + w] = roi\n",
    "        #offset += w + pad\n",
    "        \n",
    "        #final_array = final.reshape((1,400))\n",
    "        #final_array = final_array.astype(np.float32)\n",
    "        #ret, result, neighbours, dist = knn.findNearest(final_array, k=1)\n",
    "        #number = str(int(float(result[0])))\n",
    "        #full_number.append(number)\n",
    "        # draw a rectangle around the digit, the show what the\n",
    "        # digit was classified as\n",
    "        #cv2.rectangle(image, (x, y), (x + w, y + h), (0, 0, 255), 2)\n",
    "        #cv2.putText(image, number, (x , y + 155),\n",
    "        #    cv2.FONT_HERSHEY_COMPLEX, 2, (255, 0, 0), 2)\n",
    "        #plt.imshow(\"image\", image)\n",
    "        #cv2.waitKey(0) \n",
    "        \n",
    "        #all_im[all_im < 127] = 0\n",
    "        scale = 0.5\n",
    "        final = cv2.resize(final, None, fx=scale, fy=scale, interpolation=cv2.INTER_AREA)\n",
    "\n",
    "        plt.imshow(final)\n",
    "        plt.show()\n",
    "        custom_config = r'--oem 3 --psm 10'\n",
    "        print(\"result : \"+pytesseract.image_to_string(final, config=custom_config))\n",
    "        \n",
    "        print('Done')\n",
    "       # print(pytesseract.image_to_string(final))\n",
    "        \n",
    "cv2.destroyAllWindows()"
   ]
  },
  {
   "cell_type": "code",
   "execution_count": null,
   "metadata": {},
   "outputs": [],
   "source": [
    "\n",
    "\n"
   ]
  }
 ],
 "metadata": {
  "kernelspec": {
   "display_name": "Python 3",
   "language": "python",
   "name": "python3"
  },
  "language_info": {
   "codemirror_mode": {
    "name": "ipython",
    "version": 3
   },
   "file_extension": ".py",
   "mimetype": "text/x-python",
   "name": "python",
   "nbconvert_exporter": "python",
   "pygments_lexer": "ipython3",
   "version": "3.8.5"
  }
 },
 "nbformat": 4,
 "nbformat_minor": 4
}
