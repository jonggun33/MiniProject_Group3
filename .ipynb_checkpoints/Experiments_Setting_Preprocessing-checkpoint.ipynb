{
 "cells": [
  {
   "cell_type": "code",
   "execution_count": 4,
   "metadata": {},
   "outputs": [],
   "source": [
    "try:\n",
    "    from PIL import Image\n",
    "except ImportError:\n",
    "    import Image\n",
    "import pytesseract\n",
    "import cv2\n",
    "import numpy as np"
   ]
  },
  {
   "cell_type": "code",
   "execution_count": 5,
   "metadata": {},
   "outputs": [],
   "source": [
    "pytesseract.pytesseract.tesseract_cmd = r'C:\\Program Files\\Tesseract-OCR\\tesseract.exe'"
   ]
  },
  {
   "cell_type": "markdown",
   "metadata": {},
   "source": [
    "--psm xx (Page segmentation modes) options:\n",
    "  0    Orientation and script detection (OSD) only.\n",
    "  1    Automatic page segmentation with OSD.\n",
    "  2    Automatic page segmentation, but no OSD, or OCR.\n",
    "  3    Fully automatic page segmentation, but no OSD. (Default)\n",
    "  4    Assume a single column of text of variable sizes.\n",
    "  5    Assume a single uniform block of vertically aligned text.\n",
    "  6    Assume a single uniform block of text.\n",
    "  7    Treat the image as a single text line.\n",
    "  8    Treat the image as a single word.\n",
    "  9    Treat the image as a single word in a circle.\n",
    " 10    Treat the image as a single character.\n",
    " 11    Sparse text. Find as much text as possible in no particular order.\n",
    " 12    Sparse text with OSD.\n",
    " 13    Raw line. Treat the image as a single text line,\n",
    "                        bypassing hacks that are Tesseract-specific."
   ]
  },
  {
   "cell_type": "code",
   "execution_count": 12,
   "metadata": {},
   "outputs": [],
   "source": [
    "\n",
    "\n",
    "def ocr_options(name):\n",
    "    print(f'{name[0:4]} {name[4:11]} {name[11:]}', '---------------------------')\n",
    "    path = img = f\"./CargoContainerImages/{name}.jpg\"\n",
    "    source = Image.open(path)\n",
    "    config = '-l eng --oem {} --psm {} tessedit_char_whitelist=\"{}\" '\n",
    "    print('no options')\n",
    "    print(pytesseract.image_to_string(source))  #사각형 안에 있는 숫자 4를 4로 인식함\n",
    "\n",
    "    custom_config = config.format(3, 1, 'ABCDEFGHIJKLMNOPQRSTUVWXYZ0123456789')\n",
    "    print(custom_config)\n",
    "    print(pytesseract.image_to_string(source, config=custom_config))\n",
    "\n",
    "    custom_config = config.format(3, 7, 'ABCDEFGHIJKLMNOPQRSTUVWXYZ0123456789')\n",
    "    print(custom_config)\n",
    "    print(pytesseract.image_to_string(source, config=custom_config))\n",
    "\n",
    "    custom_config = config.format(3, 8, 'ABCDEFGHIJKLMNOPQRSTUVWXYZ0123456789')\n",
    "    print(custom_config)\n",
    "    print(pytesseract.image_to_string(source, config=custom_config)) ##  기호 } 삭제됨\n",
    "\n",
    "    custom_config = config.format(3, 9, 'ABCDEFGHIJKLMNOPQRSTUVWXYZ0123456789')\n",
    "    print(custom_config)\n",
    "    print(pytesseract.image_to_string(source, config=custom_config))    # }를 |로 읽음\n",
    "\n",
    "    custom_config = config.format(3, 10, 'ABCDEFGHIJKLMNOPQRSTUVWXYZ0123456789')\n",
    "    print(custom_config)\n",
    "    print(pytesseract.image_to_string(source, config=custom_config)) \n",
    "\n",
    "    custom_config = config.format(3, 11, 'ABCDEFGHIJKLMNOPQRSTUVWXYZ0123456789')\n",
    "    print(custom_config)\n",
    "    print(pytesseract.image_to_string(source, config=custom_config)) \n",
    "\n",
    "    custom_config = config.format(3, 12, 'ABCDEFGHIJKLMNOPQRSTUVWXYZ0123456789')\n",
    "    print(custom_config)\n",
    "    print(pytesseract.image_to_string(source, config=custom_config)) \n",
    "\n",
    "    custom_config = config.format(3, 13, 'ABCDEFGHIJKLMNOPQRSTUVWXYZ0123456789')\n",
    "    print(custom_config)\n",
    "    print(pytesseract.image_to_string(source, config=custom_config)) "
   ]
  },
  {
   "cell_type": "code",
   "execution_count": 13,
   "metadata": {},
   "outputs": [
    {
     "name": "stdout",
     "output_type": "stream",
     "text": [
      "TCNU 9156324  ---------------------------\n",
      "no options\n",
      "TCNU } 915632 4\n",
      "\f",
      "\n",
      "-l eng --oem 3 --psm 1 tessedit_char_whitelist=\"ABCDEFGHIJKLMNOPQRSTUVWXYZ0123456789\" \n",
      "TCNU } 915632 4\n",
      "\f",
      "\n",
      "-l eng --oem 3 --psm 7 tessedit_char_whitelist=\"ABCDEFGHIJKLMNOPQRSTUVWXYZ0123456789\" \n",
      "TCNU } 915632 4\n",
      "\f",
      "\n",
      "-l eng --oem 3 --psm 8 tessedit_char_whitelist=\"ABCDEFGHIJKLMNOPQRSTUVWXYZ0123456789\" \n",
      "TCNU 915632 4\n",
      "\f",
      "\n",
      "-l eng --oem 3 --psm 9 tessedit_char_whitelist=\"ABCDEFGHIJKLMNOPQRSTUVWXYZ0123456789\" \n",
      "NU | 915632 4\n",
      "\f",
      "\n",
      "-l eng --oem 3 --psm 10 tessedit_char_whitelist=\"ABCDEFGHIJKLMNOPQRSTUVWXYZ0123456789\" \n",
      "TCNU } 915632 4\n",
      "\f",
      "\n",
      "-l eng --oem 3 --psm 11 tessedit_char_whitelist=\"ABCDEFGHIJKLMNOPQRSTUVWXYZ0123456789\" \n",
      "TCNU } 915632 4\n",
      "\f",
      "\n",
      "-l eng --oem 3 --psm 12 tessedit_char_whitelist=\"ABCDEFGHIJKLMNOPQRSTUVWXYZ0123456789\" \n",
      "TCNU } 915632 4\n",
      "\f",
      "\n",
      "-l eng --oem 3 --psm 13 tessedit_char_whitelist=\"ABCDEFGHIJKLMNOPQRSTUVWXYZ0123456789\" \n",
      "TCNU 915632 4\n",
      "\f",
      "\n"
     ]
    }
   ],
   "source": [
    "name = \"TCNU9156324\"\n",
    "ocr_options(name)"
   ]
  },
  {
   "cell_type": "code",
   "execution_count": 14,
   "metadata": {},
   "outputs": [
    {
     "name": "stdout",
     "output_type": "stream",
     "text": [
      "WNGU 5004443  ---------------------------\n",
      "no options\n",
      "WNGU, 500444 3]\n",
      "\f",
      "\n",
      "-l eng --oem 3 --psm 1 tessedit_char_whitelist=\"ABCDEFGHIJKLMNOPQRSTUVWXYZ0123456789\" \n",
      "WNGU, 500444 3]\n",
      "\f",
      "\n",
      "-l eng --oem 3 --psm 7 tessedit_char_whitelist=\"ABCDEFGHIJKLMNOPQRSTUVWXYZ0123456789\" \n",
      "WNGU, 500444 3]\n",
      "\f",
      "\n",
      "-l eng --oem 3 --psm 8 tessedit_char_whitelist=\"ABCDEFGHIJKLMNOPQRSTUVWXYZ0123456789\" \n",
      "WNGU 500444 34\n",
      "\f",
      "\n",
      "-l eng --oem 3 --psm 9 tessedit_char_whitelist=\"ABCDEFGHIJKLMNOPQRSTUVWXYZ0123456789\" \n",
      "WNGU 500444 34\n",
      "\f",
      "\n",
      "-l eng --oem 3 --psm 10 tessedit_char_whitelist=\"ABCDEFGHIJKLMNOPQRSTUVWXYZ0123456789\" \n",
      "WNGU, 500444 3]\n",
      "\f",
      "\n",
      "-l eng --oem 3 --psm 11 tessedit_char_whitelist=\"ABCDEFGHIJKLMNOPQRSTUVWXYZ0123456789\" \n",
      "WNGU, 500444 3]\n",
      "\f",
      "\n",
      "-l eng --oem 3 --psm 12 tessedit_char_whitelist=\"ABCDEFGHIJKLMNOPQRSTUVWXYZ0123456789\" \n",
      "WNGU, 500444 3]\n",
      "\f",
      "\n",
      "-l eng --oem 3 --psm 13 tessedit_char_whitelist=\"ABCDEFGHIJKLMNOPQRSTUVWXYZ0123456789\" \n",
      "WNGU 500444 34\n",
      "\f",
      "\n"
     ]
    }
   ],
   "source": [
    "name = \"WNGU5004443\"\n",
    "ocr_options(name)\n",
    "\n",
    "###############cropping 잘 하면 끝에 4자 안 나오게 할 수 있을 듯....."
   ]
  },
  {
   "cell_type": "code",
   "execution_count": 15,
   "metadata": {},
   "outputs": [
    {
     "name": "stdout",
     "output_type": "stream",
     "text": [
      "MWLU 2481210  ---------------------------\n",
      "no options\n",
      "S225 NTO N—\n",
      "\f",
      "\n",
      "-l eng --oem 3 --psm 1 tessedit_char_whitelist=\"ABCDEFGHIJKLMNOPQRSTUVWXYZ0123456789\" \n",
      "S225 NTO N—\n",
      "\f",
      "\n",
      "-l eng --oem 3 --psm 7 tessedit_char_whitelist=\"ABCDEFGHIJKLMNOPQRSTUVWXYZ0123456789\" \n",
      ":\n",
      "\f",
      "\n",
      "-l eng --oem 3 --psm 8 tessedit_char_whitelist=\"ABCDEFGHIJKLMNOPQRSTUVWXYZ0123456789\" \n",
      "\f",
      "\n",
      "-l eng --oem 3 --psm 9 tessedit_char_whitelist=\"ABCDEFGHIJKLMNOPQRSTUVWXYZ0123456789\" \n",
      "\f",
      "\n",
      "-l eng --oem 3 --psm 10 tessedit_char_whitelist=\"ABCDEFGHIJKLMNOPQRSTUVWXYZ0123456789\" \n",
      "|\n",
      "\f",
      "\n",
      "-l eng --oem 3 --psm 11 tessedit_char_whitelist=\"ABCDEFGHIJKLMNOPQRSTUVWXYZ0123456789\" \n",
      "YU\n",
      "\n",
      "0)\n",
      "\f",
      "\n",
      "-l eng --oem 3 --psm 12 tessedit_char_whitelist=\"ABCDEFGHIJKLMNOPQRSTUVWXYZ0123456789\" \n",
      "eb ha ha i=\n",
      "\n",
      "ma\n",
      "\f",
      "\n",
      "-l eng --oem 3 --psm 13 tessedit_char_whitelist=\"ABCDEFGHIJKLMNOPQRSTUVWXYZ0123456789\" \n",
      "\f",
      "\n"
     ]
    }
   ],
   "source": [
    "name = \"MWLU2481210\"\n",
    "ocr_options(name)\n",
    "\n",
    "\n",
    "#####세로 글자는 형편없는 결과를 냄...... "
   ]
  },
  {
   "cell_type": "code",
   "execution_count": 29,
   "metadata": {},
   "outputs": [
    {
     "name": "stdout",
     "output_type": "stream",
     "text": [
      "S225 NTO N—\n",
      "\f",
      "\n"
     ]
    },
    {
     "ename": "TesseractError",
     "evalue": "(1, \"read_params_file: Can't open tessedit_char_whitelist=ABCDEFGHIJKLMNOPQRSTUVWXYZ0123456789 Error: Tesseract (legacy) engine requested, but components are not present in C:\\\\Program Files\\\\Tesseract-OCR/tessdata/eng.traineddata!! Failed loading language 'eng' Tesseract couldn't load any languages! Could not initialize tesseract.\")",
     "output_type": "error",
     "traceback": [
      "\u001b[1;31m---------------------------------------------------------------------------\u001b[0m",
      "\u001b[1;31mTesseractError\u001b[0m                            Traceback (most recent call last)",
      "\u001b[1;32m<ipython-input-29-499a0debb6bd>\u001b[0m in \u001b[0;36m<module>\u001b[1;34m\u001b[0m\n\u001b[0;32m      5\u001b[0m \u001b[1;33m\u001b[0m\u001b[0m\n\u001b[0;32m      6\u001b[0m \u001b[0mcustom_config\u001b[0m \u001b[1;33m=\u001b[0m \u001b[0mconfig\u001b[0m\u001b[1;33m.\u001b[0m\u001b[0mformat\u001b[0m\u001b[1;33m(\u001b[0m\u001b[1;36m2\u001b[0m\u001b[1;33m,\u001b[0m \u001b[1;36m10\u001b[0m\u001b[1;33m,\u001b[0m \u001b[1;34m'ABCDEFGHIJKLMNOPQRSTUVWXYZ0123456789'\u001b[0m\u001b[1;33m)\u001b[0m\u001b[1;33m\u001b[0m\u001b[1;33m\u001b[0m\u001b[0m\n\u001b[1;32m----> 7\u001b[1;33m \u001b[0mprint\u001b[0m\u001b[1;33m(\u001b[0m\u001b[0mpytesseract\u001b[0m\u001b[1;33m.\u001b[0m\u001b[0mimage_to_string\u001b[0m\u001b[1;33m(\u001b[0m\u001b[0msource\u001b[0m\u001b[1;33m,\u001b[0m \u001b[0mconfig\u001b[0m\u001b[1;33m=\u001b[0m\u001b[0mcustom_config\u001b[0m\u001b[1;33m)\u001b[0m\u001b[1;33m)\u001b[0m\u001b[1;33m\u001b[0m\u001b[1;33m\u001b[0m\u001b[0m\n\u001b[0m\u001b[0;32m      8\u001b[0m \u001b[1;33m\u001b[0m\u001b[0m\n\u001b[0;32m      9\u001b[0m \u001b[0mcustom_config\u001b[0m \u001b[1;33m=\u001b[0m \u001b[0mconfig\u001b[0m\u001b[1;33m.\u001b[0m\u001b[0mformat\u001b[0m\u001b[1;33m(\u001b[0m\u001b[1;36m2\u001b[0m\u001b[1;33m,\u001b[0m \u001b[1;36m7\u001b[0m\u001b[1;33m,\u001b[0m \u001b[1;34m'ABCDEFGHIJKLMNOPQRSTUVWXYZ0123456789'\u001b[0m\u001b[1;33m)\u001b[0m\u001b[1;33m\u001b[0m\u001b[1;33m\u001b[0m\u001b[0m\n",
      "\u001b[1;32mc:\\users\\fish\\downloads\\miniproject_group3\\venv\\lib\\site-packages\\pytesseract\\pytesseract.py\u001b[0m in \u001b[0;36mimage_to_string\u001b[1;34m(image, lang, config, nice, output_type, timeout)\u001b[0m\n\u001b[0;32m    368\u001b[0m     \u001b[0margs\u001b[0m \u001b[1;33m=\u001b[0m \u001b[1;33m[\u001b[0m\u001b[0mimage\u001b[0m\u001b[1;33m,\u001b[0m \u001b[1;34m'txt'\u001b[0m\u001b[1;33m,\u001b[0m \u001b[0mlang\u001b[0m\u001b[1;33m,\u001b[0m \u001b[0mconfig\u001b[0m\u001b[1;33m,\u001b[0m \u001b[0mnice\u001b[0m\u001b[1;33m,\u001b[0m \u001b[0mtimeout\u001b[0m\u001b[1;33m]\u001b[0m\u001b[1;33m\u001b[0m\u001b[1;33m\u001b[0m\u001b[0m\n\u001b[0;32m    369\u001b[0m \u001b[1;33m\u001b[0m\u001b[0m\n\u001b[1;32m--> 370\u001b[1;33m     return {\n\u001b[0m\u001b[0;32m    371\u001b[0m         \u001b[0mOutput\u001b[0m\u001b[1;33m.\u001b[0m\u001b[0mBYTES\u001b[0m\u001b[1;33m:\u001b[0m \u001b[1;32mlambda\u001b[0m\u001b[1;33m:\u001b[0m \u001b[0mrun_and_get_output\u001b[0m\u001b[1;33m(\u001b[0m\u001b[1;33m*\u001b[0m\u001b[1;33m(\u001b[0m\u001b[0margs\u001b[0m \u001b[1;33m+\u001b[0m \u001b[1;33m[\u001b[0m\u001b[1;32mTrue\u001b[0m\u001b[1;33m]\u001b[0m\u001b[1;33m)\u001b[0m\u001b[1;33m)\u001b[0m\u001b[1;33m,\u001b[0m\u001b[1;33m\u001b[0m\u001b[1;33m\u001b[0m\u001b[0m\n\u001b[0;32m    372\u001b[0m         \u001b[0mOutput\u001b[0m\u001b[1;33m.\u001b[0m\u001b[0mDICT\u001b[0m\u001b[1;33m:\u001b[0m \u001b[1;32mlambda\u001b[0m\u001b[1;33m:\u001b[0m \u001b[1;33m{\u001b[0m\u001b[1;34m'text'\u001b[0m\u001b[1;33m:\u001b[0m \u001b[0mrun_and_get_output\u001b[0m\u001b[1;33m(\u001b[0m\u001b[1;33m*\u001b[0m\u001b[0margs\u001b[0m\u001b[1;33m)\u001b[0m\u001b[1;33m}\u001b[0m\u001b[1;33m,\u001b[0m\u001b[1;33m\u001b[0m\u001b[1;33m\u001b[0m\u001b[0m\n",
      "\u001b[1;32mc:\\users\\fish\\downloads\\miniproject_group3\\venv\\lib\\site-packages\\pytesseract\\pytesseract.py\u001b[0m in \u001b[0;36m<lambda>\u001b[1;34m()\u001b[0m\n\u001b[0;32m    371\u001b[0m         \u001b[0mOutput\u001b[0m\u001b[1;33m.\u001b[0m\u001b[0mBYTES\u001b[0m\u001b[1;33m:\u001b[0m \u001b[1;32mlambda\u001b[0m\u001b[1;33m:\u001b[0m \u001b[0mrun_and_get_output\u001b[0m\u001b[1;33m(\u001b[0m\u001b[1;33m*\u001b[0m\u001b[1;33m(\u001b[0m\u001b[0margs\u001b[0m \u001b[1;33m+\u001b[0m \u001b[1;33m[\u001b[0m\u001b[1;32mTrue\u001b[0m\u001b[1;33m]\u001b[0m\u001b[1;33m)\u001b[0m\u001b[1;33m)\u001b[0m\u001b[1;33m,\u001b[0m\u001b[1;33m\u001b[0m\u001b[1;33m\u001b[0m\u001b[0m\n\u001b[0;32m    372\u001b[0m         \u001b[0mOutput\u001b[0m\u001b[1;33m.\u001b[0m\u001b[0mDICT\u001b[0m\u001b[1;33m:\u001b[0m \u001b[1;32mlambda\u001b[0m\u001b[1;33m:\u001b[0m \u001b[1;33m{\u001b[0m\u001b[1;34m'text'\u001b[0m\u001b[1;33m:\u001b[0m \u001b[0mrun_and_get_output\u001b[0m\u001b[1;33m(\u001b[0m\u001b[1;33m*\u001b[0m\u001b[0margs\u001b[0m\u001b[1;33m)\u001b[0m\u001b[1;33m}\u001b[0m\u001b[1;33m,\u001b[0m\u001b[1;33m\u001b[0m\u001b[1;33m\u001b[0m\u001b[0m\n\u001b[1;32m--> 373\u001b[1;33m         \u001b[0mOutput\u001b[0m\u001b[1;33m.\u001b[0m\u001b[0mSTRING\u001b[0m\u001b[1;33m:\u001b[0m \u001b[1;32mlambda\u001b[0m\u001b[1;33m:\u001b[0m \u001b[0mrun_and_get_output\u001b[0m\u001b[1;33m(\u001b[0m\u001b[1;33m*\u001b[0m\u001b[0margs\u001b[0m\u001b[1;33m)\u001b[0m\u001b[1;33m,\u001b[0m\u001b[1;33m\u001b[0m\u001b[1;33m\u001b[0m\u001b[0m\n\u001b[0m\u001b[0;32m    374\u001b[0m     }[output_type]()\n\u001b[0;32m    375\u001b[0m \u001b[1;33m\u001b[0m\u001b[0m\n",
      "\u001b[1;32mc:\\users\\fish\\downloads\\miniproject_group3\\venv\\lib\\site-packages\\pytesseract\\pytesseract.py\u001b[0m in \u001b[0;36mrun_and_get_output\u001b[1;34m(image, extension, lang, config, nice, timeout, return_bytes)\u001b[0m\n\u001b[0;32m    280\u001b[0m         }\n\u001b[0;32m    281\u001b[0m \u001b[1;33m\u001b[0m\u001b[0m\n\u001b[1;32m--> 282\u001b[1;33m         \u001b[0mrun_tesseract\u001b[0m\u001b[1;33m(\u001b[0m\u001b[1;33m**\u001b[0m\u001b[0mkwargs\u001b[0m\u001b[1;33m)\u001b[0m\u001b[1;33m\u001b[0m\u001b[1;33m\u001b[0m\u001b[0m\n\u001b[0m\u001b[0;32m    283\u001b[0m         \u001b[0mfilename\u001b[0m \u001b[1;33m=\u001b[0m \u001b[0mkwargs\u001b[0m\u001b[1;33m[\u001b[0m\u001b[1;34m'output_filename_base'\u001b[0m\u001b[1;33m]\u001b[0m \u001b[1;33m+\u001b[0m \u001b[0mextsep\u001b[0m \u001b[1;33m+\u001b[0m \u001b[0mextension\u001b[0m\u001b[1;33m\u001b[0m\u001b[1;33m\u001b[0m\u001b[0m\n\u001b[0;32m    284\u001b[0m         \u001b[1;32mwith\u001b[0m \u001b[0mopen\u001b[0m\u001b[1;33m(\u001b[0m\u001b[0mfilename\u001b[0m\u001b[1;33m,\u001b[0m \u001b[1;34m'rb'\u001b[0m\u001b[1;33m)\u001b[0m \u001b[1;32mas\u001b[0m \u001b[0moutput_file\u001b[0m\u001b[1;33m:\u001b[0m\u001b[1;33m\u001b[0m\u001b[1;33m\u001b[0m\u001b[0m\n",
      "\u001b[1;32mc:\\users\\fish\\downloads\\miniproject_group3\\venv\\lib\\site-packages\\pytesseract\\pytesseract.py\u001b[0m in \u001b[0;36mrun_tesseract\u001b[1;34m(input_filename, output_filename_base, extension, lang, config, nice, timeout)\u001b[0m\n\u001b[0;32m    256\u001b[0m     \u001b[1;32mwith\u001b[0m \u001b[0mtimeout_manager\u001b[0m\u001b[1;33m(\u001b[0m\u001b[0mproc\u001b[0m\u001b[1;33m,\u001b[0m \u001b[0mtimeout\u001b[0m\u001b[1;33m)\u001b[0m \u001b[1;32mas\u001b[0m \u001b[0merror_string\u001b[0m\u001b[1;33m:\u001b[0m\u001b[1;33m\u001b[0m\u001b[1;33m\u001b[0m\u001b[0m\n\u001b[0;32m    257\u001b[0m         \u001b[1;32mif\u001b[0m \u001b[0mproc\u001b[0m\u001b[1;33m.\u001b[0m\u001b[0mreturncode\u001b[0m\u001b[1;33m:\u001b[0m\u001b[1;33m\u001b[0m\u001b[1;33m\u001b[0m\u001b[0m\n\u001b[1;32m--> 258\u001b[1;33m             \u001b[1;32mraise\u001b[0m \u001b[0mTesseractError\u001b[0m\u001b[1;33m(\u001b[0m\u001b[0mproc\u001b[0m\u001b[1;33m.\u001b[0m\u001b[0mreturncode\u001b[0m\u001b[1;33m,\u001b[0m \u001b[0mget_errors\u001b[0m\u001b[1;33m(\u001b[0m\u001b[0merror_string\u001b[0m\u001b[1;33m)\u001b[0m\u001b[1;33m)\u001b[0m\u001b[1;33m\u001b[0m\u001b[1;33m\u001b[0m\u001b[0m\n\u001b[0m\u001b[0;32m    259\u001b[0m \u001b[1;33m\u001b[0m\u001b[0m\n\u001b[0;32m    260\u001b[0m \u001b[1;33m\u001b[0m\u001b[0m\n",
      "\u001b[1;31mTesseractError\u001b[0m: (1, \"read_params_file: Can't open tessedit_char_whitelist=ABCDEFGHIJKLMNOPQRSTUVWXYZ0123456789 Error: Tesseract (legacy) engine requested, but components are not present in C:\\\\Program Files\\\\Tesseract-OCR/tessdata/eng.traineddata!! Failed loading language 'eng' Tesseract couldn't load any languages! Could not initialize tesseract.\")"
     ]
    }
   ],
   "source": [
    "img = \"./CargoContainerImages/MWLU2481210.jpg\"\n",
    "source = Image.open(img)\n",
    "config = '-l eng --oem {} --psm {} tessedit_char_whitelist=\"{}\" '\n",
    "print(pytesseract.image_to_string(source))  \n",
    "\n",
    "custom_config = config.format(2, 10, 'ABCDEFGHIJKLMNOPQRSTUVWXYZ0123456789')\n",
    "print(pytesseract.image_to_string(source, config=custom_config))\n",
    "\n",
    "custom_config = config.format(2, 7, 'ABCDEFGHIJKLMNOPQRSTUVWXYZ0123456789')\n",
    "print(pytesseract.image_to_string(source, config=custom_config))\n",
    "\n",
    "custom_config = config.format(2, 8, 'ABCDEFGHIJKLMNOPQRSTUVWXYZ0123456789')\n",
    "print(pytesseract.image_to_string(source, config=custom_config)) \n",
    "\n",
    "custom_config = config.format(2, 9, 'ABCDEFGHIJKLMNOPQRSTUVWXYZ0123456789')\n",
    "print(pytesseract.image_to_string(source, config=custom_config))    \n",
    "\n",
    "custom_config = config.format(2, 10, 'ABCDEFGHIJKLMNOPQRSTUVWXYZ0123456789')\n",
    "print(pytesseract.image_to_string(source, config=custom_config)) \n",
    "\n",
    "custom_config = config.format(2, 11, 'ABCDEFGHIJKLMNOPQRSTUVWXYZ0123456789')\n",
    "print(pytesseract.image_to_string(source, config=custom_config)) \n",
    "\n",
    "custom_config = config.format(2, 12, 'ABCDEFGHIJKLMNOPQRSTUVWXYZ0123456789')\n",
    "print(pytesseract.image_to_string(source, config=custom_config)) \n",
    "\n",
    "custom_config = config.format(2, 13, 'ABCDEFGHIJKLMNOPQRSTUVWXYZ0123456789')\n",
    "print(pytesseract.image_to_string(source, config=custom_config)) \n",
    "\n",
    "custom_config = config.format(2, 5, 'ABCDEFGHIJKLMNOPQRSTUVWXYZ0123456789')\n",
    "print(pytesseract.image_to_string(source, config=custom_config)) "
   ]
  },
  {
   "cell_type": "code",
   "execution_count": 32,
   "metadata": {},
   "outputs": [
    {
     "name": "stdout",
     "output_type": "stream",
     "text": [
      "a\n",
      "EL ER\n",
      "\n",
      " \n",
      "\f",
      "\n",
      "Aone\n",
      "\f",
      "\n",
      "Aone\n",
      "\f",
      "\n",
      "hoe\n",
      "\f",
      "\n",
      "hoe\n",
      "\f",
      "\n",
      "Aone\n",
      "\f",
      "\n",
      "a\n",
      "\n",
      "EL ER\n",
      "\f",
      "\n",
      "a\n",
      "\n",
      "EL ER\n",
      "\f",
      "\n",
      "hoe\n",
      "\f",
      "\n",
      "is\n",
      "re\n",
      "F)\n",
      "=\n",
      "is\n",
      "=\n",
      "Bo\n",
      "\f",
      "\n"
     ]
    }
   ],
   "source": [
    "img = \"./CargoContainerImages/WDFU3007558.jpg\"     ##############################   2단으로 된 문자열\n",
    "source = Image.open(img)\n",
    "config = '-l eng --oem {} --psm {} tessedit_char_whitelist=\"{}\" '\n",
    "print(pytesseract.image_to_string(source))  \n",
    "\n",
    "custom_config = config.format(3, 10, 'ABCDEFGHIJKLMNOPQRSTUVWXYZ0123456789')\n",
    "print(pytesseract.image_to_string(source, config=custom_config))\n",
    "\n",
    "custom_config = config.format(3, 7, 'ABCDEFGHIJKLMNOPQRSTUVWXYZ0123456789')\n",
    "print(pytesseract.image_to_string(source, config=custom_config))\n",
    "\n",
    "custom_config = config.format(3, 8, 'ABCDEFGHIJKLMNOPQRSTUVWXYZ0123456789')\n",
    "print(pytesseract.image_to_string(source, config=custom_config)) \n",
    "\n",
    "custom_config = config.format(3, 9, 'ABCDEFGHIJKLMNOPQRSTUVWXYZ0123456789')\n",
    "print(pytesseract.image_to_string(source, config=custom_config))    \n",
    "\n",
    "custom_config = config.format(3, 10, 'ABCDEFGHIJKLMNOPQRSTUVWXYZ0123456789')\n",
    "print(pytesseract.image_to_string(source, config=custom_config)) \n",
    "\n",
    "custom_config = config.format(3, 11, 'ABCDEFGHIJKLMNOPQRSTUVWXYZ0123456789')\n",
    "print(pytesseract.image_to_string(source, config=custom_config)) \n",
    "\n",
    "custom_config = config.format(3, 12, 'ABCDEFGHIJKLMNOPQRSTUVWXYZ0123456789')\n",
    "print(pytesseract.image_to_string(source, config=custom_config)) \n",
    "\n",
    "custom_config = config.format(3, 13, 'ABCDEFGHIJKLMNOPQRSTUVWXYZ0123456789')\n",
    "print(pytesseract.image_to_string(source, config=custom_config)) \n",
    "\n",
    "custom_config = config.format(3, 5, 'ABCDEFGHIJKLMNOPQRSTUVWXYZ0123456789')\n",
    "print(pytesseract.image_to_string(source, config=custom_config)) "
   ]
  },
  {
   "cell_type": "code",
   "execution_count": 35,
   "metadata": {},
   "outputs": [],
   "source": [
    "def segment_ocr(path, oem=3, psm=3):\n",
    "    img = cv2.imread(path)\n",
    "    gray = cv2.cvtColor(img, cv2.COLOR_BGR2GRAY)\n",
    "    thresh = cv2.threshold(gray, 127, 255, cv2.THRESH_BINARY_INV + cv2.THRESH_OTSU)[1]\n",
    "    items = cv2.findContours(thresh, cv2.RETR_EXTERNAL, cv2.CHAIN_APPROX_SIMPLE)\n",
    "    contours = items[0] if len(items) == 2 else items[1]\n",
    "    img_contour = img.copy()\n",
    "    for i in range(len(contours)):\n",
    "        area = cv2.contourArea(contours[i])\n",
    "        if 100 < area < 10000:\n",
    "            cv2.drawContours(img_contour, contours, i, (0, 0, 255), 2)\n",
    "    detected = \"\"\n",
    "    for c in contours:\n",
    "        x, y, w, h = cv2.boundingRect(c)\n",
    "        ratio = h/w\n",
    "        area = cv2.contourArea(c)\n",
    "        base = np.ones(thresh.shape, dtype=np.uint8)\n",
    "        if ratio > 0.9 and 100 < area < 10000:\n",
    "            base[y:y+h, x:x+w] = thresh[y:y+h, x:x+w]\n",
    "            segment = cv2.bitwise_not(base)\n",
    "\n",
    "            custom_config = f'-l eng --oem {oem} --psm {psm} -c tessedit_char_whitelist=\"ABCDEFGHIJKLMNOPQRSTUVWXYZ0123456789\" '\n",
    "            c = pytesseract.image_to_string(segment, config=custom_config)\n",
    "            print(c)\n",
    "            detected = detected + c\n",
    "            cv2.imshow(\"segment\", segment)\n",
    "            cv2.waitKey(0)\n",
    "    print(\"detected: \" + detected)\n",
    "    cv2.imshow(\"img_contour\", img_contour)\n",
    "    cv2.waitKey(0)\n",
    "    cv2.destroyAllWindows()"
   ]
  },
  {
   "cell_type": "code",
   "execution_count": 43,
   "metadata": {},
   "outputs": [
    {
     "name": "stdout",
     "output_type": "stream",
     "text": [
      "detected: \n"
     ]
    }
   ],
   "source": [
    "segment_ocr(\"./CargoContainerImages/WDFU3007558.jpg\", psm=10)  ## 2단"
   ]
  },
  {
   "cell_type": "code",
   "execution_count": 44,
   "metadata": {},
   "outputs": [
    {
     "name": "stdout",
     "output_type": "stream",
     "text": [
      "detected: \n"
     ]
    }
   ],
   "source": [
    "segment_ocr(\"./CargoContainerImages/MWLU1700058.jpg\", psm=10)"
   ]
  },
  {
   "cell_type": "code",
   "execution_count": 48,
   "metadata": {},
   "outputs": [
    {
     "name": "stdout",
     "output_type": "stream",
     "text": [
      "I\n",
      "\f",
      "\n",
      "\f",
      "\n",
      "I\n",
      "\f",
      "\n",
      "\f",
      "\n",
      "1\n",
      "\f",
      "\n",
      "K\n",
      "\f",
      "\n",
      "\f",
      "\n",
      "J\n",
      "\f",
      "\n",
      "OF\n",
      "\f",
      "\n",
      "\f",
      "\n",
      "3\n",
      "\f",
      "\n",
      "\f",
      "\n",
      "\f",
      "\n",
      "detected: I\n",
      "\f",
      "\f",
      "I\n",
      "\f",
      "\f",
      "1\n",
      "\f",
      "K\n",
      "\f",
      "\f",
      "J\n",
      "\f",
      "OF\n",
      "\f",
      "\f",
      "3\n",
      "\f",
      "\f",
      "\f",
      "\n"
     ]
    }
   ],
   "source": [
    "segment_ocr(\"./CargoContainerImages/crop001.jpg\", psm=10)"
   ]
  },
  {
   "cell_type": "code",
   "execution_count": 46,
   "metadata": {},
   "outputs": [
    {
     "name": "stdout",
     "output_type": "stream",
     "text": [
      "detected: \n"
     ]
    }
   ],
   "source": [
    "segment_ocr(\"./CargoContainerImages/LineScan-picture.jpg\", psm=11)"
   ]
  },
  {
   "cell_type": "code",
   "execution_count": 49,
   "metadata": {},
   "outputs": [
    {
     "name": "stdout",
     "output_type": "stream",
     "text": [
      "\f",
      "\n",
      "\f",
      "\n",
      "\f",
      "\n",
      "\f",
      "\n",
      "\f",
      "\n",
      "detected: \f",
      "\f",
      "\f",
      "\f",
      "\f",
      "\n"
     ]
    }
   ],
   "source": [
    "segment_ocr(\"./CargoContainerImages/cache_4085978006.jpg\", psm=11)"
   ]
  },
  {
   "cell_type": "code",
   "execution_count": 51,
   "metadata": {},
   "outputs": [
    {
     "name": "stdout",
     "output_type": "stream",
     "text": [
      "detected: \n"
     ]
    }
   ],
   "source": [
    "segment_ocr(\"./CargoContainerImages/TEMU2491228.jpg\", psm=10)"
   ]
  }
 ],
 "metadata": {
  "kernelspec": {
   "display_name": "Python 3",
   "language": "python",
   "name": "python3"
  },
  "language_info": {
   "codemirror_mode": {
    "name": "ipython",
    "version": 3
   },
   "file_extension": ".py",
   "mimetype": "text/x-python",
   "name": "python",
   "nbconvert_exporter": "python",
   "pygments_lexer": "ipython3",
   "version": "3.8.6"
  }
 },
 "nbformat": 4,
 "nbformat_minor": 4
}
