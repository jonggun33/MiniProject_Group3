{
 "cells": [
  {
   "cell_type": "markdown",
   "metadata": {},
   "source": [
    "# Learning"
   ]
  },
  {
   "cell_type": "code",
   "execution_count": 1,
   "metadata": {},
   "outputs": [],
   "source": [
    "import tensorflow as tf\n",
    "import numpy as np\n",
    "from tensorflow.keras.preprocessing.image import ImageDataGenerator"
   ]
  },
  {
   "cell_type": "code",
   "execution_count": 2,
   "metadata": {},
   "outputs": [],
   "source": [
    "MODEL = 'VGG16'\n",
    "batch_size=64\n",
    "train_data_path = './CargoContainerImages/train/'\n",
    "num_classes = 2\n",
    "max_epoches = 20"
   ]
  },
  {
   "cell_type": "code",
   "execution_count": 3,
   "metadata": {},
   "outputs": [
    {
     "name": "stdout",
     "output_type": "stream",
     "text": [
      "Found 147 images belonging to 2 classes.\n"
     ]
    }
   ],
   "source": [
    "train_datagen = ImageDataGenerator(rescale=1/255)\n",
    "train_generator = train_datagen.flow_from_directory(\n",
    "    train_data_path,\n",
    "    target_size=(224,224),\n",
    "    batch_size=batch_size,\n",
    "    class_mode ='categorical')"
   ]
  },
  {
   "cell_type": "code",
   "execution_count": 4,
   "metadata": {},
   "outputs": [],
   "source": [
    "if MODEL == 'ResNet50':\n",
    "    from tensorflow.keras.applications.resnet50 import ResNet50\n",
    "    from tensorflow.keras.applications.resnet50 import preprocess_input\n",
    "    model = ResNet50(weights = None, classes=num_classes)\n",
    "    output_node_name = 'fc1000/Softmax'\n",
    "if MODEL == 'VGG16':\n",
    "    from tensorflow.keras.applications.vgg16 import VGG16\n",
    "    from tensorflow.keras.applications.vgg16 import preprocess_input\n",
    "    model = VGG16(weights = None, classes = num_classes)\n",
    "    output_node_name = 'predictions/Softmax'\n"
   ]
  },
  {
   "cell_type": "code",
   "execution_count": 5,
   "metadata": {},
   "outputs": [
    {
     "name": "stdout",
     "output_type": "stream",
     "text": [
      "WARNING:tensorflow:From <ipython-input-5-336c7106822e>:2: Model.fit_generator (from tensorflow.python.keras.engine.training) is deprecated and will be removed in a future version.\n",
      "Instructions for updating:\n",
      "Please use Model.fit, which supports generators.\n",
      "Epoch 1/20\n",
      "3/3 [==============================] - 37s 12s/step - loss: 1.2479 - accuracy: 0.5238\n",
      "Epoch 2/20\n",
      "3/3 [==============================] - 52s 17s/step - loss: 0.6822 - accuracy: 0.5646\n",
      "Epoch 3/20\n",
      "3/3 [==============================] - 53s 18s/step - loss: 0.8614 - accuracy: 0.5850\n",
      "Epoch 4/20\n",
      "3/3 [==============================] - 53s 18s/step - loss: 0.6917 - accuracy: 0.5850\n",
      "Epoch 5/20\n",
      "3/3 [==============================] - 53s 18s/step - loss: 0.6894 - accuracy: 0.5850\n",
      "Epoch 6/20\n",
      "3/3 [==============================] - 51s 17s/step - loss: 0.6865 - accuracy: 0.5850\n",
      "Epoch 7/20\n",
      "3/3 [==============================] - 34s 11s/step - loss: 0.6841 - accuracy: 0.5850\n",
      "Epoch 8/20\n",
      "3/3 [==============================] - 53s 18s/step - loss: 0.6793 - accuracy: 0.5850\n",
      "Epoch 9/20\n",
      "3/3 [==============================] - 35s 12s/step - loss: 0.6795 - accuracy: 0.5850\n",
      "Epoch 10/20\n",
      "3/3 [==============================] - 52s 17s/step - loss: 0.6791 - accuracy: 0.5850\n",
      "Epoch 11/20\n",
      "3/3 [==============================] - 34s 11s/step - loss: 0.6785 - accuracy: 0.5850\n",
      "Epoch 12/20\n",
      "3/3 [==============================] - 34s 11s/step - loss: 0.6785 - accuracy: 0.5850\n",
      "Epoch 13/20\n",
      "3/3 [==============================] - 52s 17s/step - loss: 0.6798 - accuracy: 0.5850\n",
      "Epoch 14/20\n",
      "3/3 [==============================] - 34s 11s/step - loss: 0.6804 - accuracy: 0.5850\n",
      "Epoch 15/20\n",
      "3/3 [==============================] - 34s 11s/step - loss: 0.6803 - accuracy: 0.5850\n",
      "Epoch 16/20\n",
      "3/3 [==============================] - 34s 11s/step - loss: 0.6801 - accuracy: 0.5850\n",
      "Epoch 17/20\n",
      "3/3 [==============================] - 51s 17s/step - loss: 0.6798 - accuracy: 0.5850\n",
      "Epoch 18/20\n",
      "3/3 [==============================] - 34s 11s/step - loss: 0.6785 - accuracy: 0.5850\n",
      "Epoch 19/20\n",
      "3/3 [==============================] - 52s 17s/step - loss: 0.6806 - accuracy: 0.5850\n",
      "Epoch 20/20\n",
      "3/3 [==============================] - 34s 11s/step - loss: 0.6811 - accuracy: 0.5850\n"
     ]
    }
   ],
   "source": [
    "model.compile(loss = 'categorical_crossentropy', optimizer = 'adam', metrics = ['accuracy'])\n",
    "model.fit_generator(train_generator, epochs = max_epoches)\n",
    "model.save('saved_model' + MODEL + 'saved.h5')"
   ]
  },
  {
   "cell_type": "markdown",
   "metadata": {},
   "source": [
    "# Prediction"
   ]
  },
  {
   "cell_type": "code",
   "execution_count": 7,
   "metadata": {},
   "outputs": [],
   "source": [
    "import tensorflow.keras.backend as K\n",
    "from tensorflow.keras.models import load_model\n",
    "#import uff"
   ]
  },
  {
   "cell_type": "code",
   "execution_count": 8,
   "metadata": {},
   "outputs": [],
   "source": [
    "MODEL = 'VGG16'"
   ]
  },
  {
   "cell_type": "code",
   "execution_count": 10,
   "metadata": {},
   "outputs": [
    {
     "ename": "AttributeError",
     "evalue": "module 'tensorflow.keras.backend' has no attribute 'get_session'",
     "output_type": "error",
     "traceback": [
      "\u001b[1;31m---------------------------------------------------------------------------\u001b[0m",
      "\u001b[1;31mAttributeError\u001b[0m                            Traceback (most recent call last)",
      "\u001b[1;32m<ipython-input-10-df7e32f496eb>\u001b[0m in \u001b[0;36m<module>\u001b[1;34m\u001b[0m\n\u001b[0;32m      3\u001b[0m \u001b[1;32mif\u001b[0m \u001b[0mMODEL\u001b[0m \u001b[1;33m==\u001b[0m \u001b[1;34m'VGG16'\u001b[0m\u001b[1;33m:\u001b[0m\u001b[1;33m\u001b[0m\u001b[1;33m\u001b[0m\u001b[0m\n\u001b[0;32m      4\u001b[0m     \u001b[0moutput_node_name\u001b[0m  \u001b[1;33m=\u001b[0m \u001b[1;34m'predictions/Softmax'\u001b[0m\u001b[1;33m\u001b[0m\u001b[1;33m\u001b[0m\u001b[0m\n\u001b[1;32m----> 5\u001b[1;33m \u001b[0msess\u001b[0m \u001b[1;33m=\u001b[0m \u001b[0mK\u001b[0m\u001b[1;33m.\u001b[0m\u001b[0mget_session\u001b[0m\u001b[1;33m(\u001b[0m\u001b[1;33m)\u001b[0m\u001b[1;33m\u001b[0m\u001b[1;33m\u001b[0m\u001b[0m\n\u001b[0m\u001b[0;32m      6\u001b[0m \u001b[0mK\u001b[0m\u001b[1;33m.\u001b[0m\u001b[0mset_learning_phase\u001b[0m\u001b[1;33m(\u001b[0m\u001b[1;36m0\u001b[0m\u001b[1;33m)\u001b[0m\u001b[1;33m\u001b[0m\u001b[1;33m\u001b[0m\u001b[0m\n\u001b[0;32m      7\u001b[0m \u001b[0mgraph\u001b[0m \u001b[1;33m=\u001b[0m \u001b[0mtf\u001b[0m\u001b[1;33m.\u001b[0m\u001b[0mget_default_graph\u001b[0m\u001b[1;33m(\u001b[0m\u001b[1;33m)\u001b[0m\u001b[1;33m\u001b[0m\u001b[1;33m\u001b[0m\u001b[0m\n",
      "\u001b[1;31mAttributeError\u001b[0m: module 'tensorflow.keras.backend' has no attribute 'get_session'"
     ]
    }
   ],
   "source": [
    "if MODEL == 'ResNet50':\n",
    "    output_node_name = 'fc1000/Softmax'\n",
    "if MODEL == 'VGG16':\n",
    "    output_node_name  = 'predictions/Softmax'\n",
    "sess = K.get_session()\n",
    "K.set_learning_phase(0)\n",
    "graph = tf.get_default_graph()\n",
    "model = load_model('saved_model/' + MODEL + '_saved.h5')\n",
    "model.compile(loss = 'categorical_crossenthropy', optimizer = 'adam', metrics= ['accuracy'])\n",
    "output_graph_def = tf.graph_util.convert_variables_to_constants(sess, graph.as_graph_def(), ['input_1', output_node_name])"
   ]
  },
  {
   "cell_type": "code",
   "execution_count": null,
   "metadata": {},
   "outputs": [],
   "source": [
    "uffmodel = uff.from_tensorflow(output_graph_def, [output_node_name], \n",
    "                              output_filename = 'saved_model/' + MODEL + 'uff')"
   ]
  }
 ],
 "metadata": {
  "kernelspec": {
   "display_name": "Python 3",
   "language": "python",
   "name": "python3"
  },
  "language_info": {
   "codemirror_mode": {
    "name": "ipython",
    "version": 3
   },
   "file_extension": ".py",
   "mimetype": "text/x-python",
   "name": "python",
   "nbconvert_exporter": "python",
   "pygments_lexer": "ipython3",
   "version": "3.8.6"
  }
 },
 "nbformat": 4,
 "nbformat_minor": 4
}
